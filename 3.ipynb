{
 "cells": [
  {
   "cell_type": "code",
   "execution_count": 1,
   "metadata": {},
   "outputs": [
    {
     "name": "stderr",
     "output_type": "stream",
     "text": [
      "/home/dockeruser/anaconda2/lib/python2.7/site-packages/IPython/core/interactiveshell.py:2717: DtypeWarning: Columns (5,11,14,15) have mixed types. Specify dtype option on import or set low_memory=False.\n",
      "  interactivity=interactivity, compiler=compiler, result=result)\n"
     ]
    }
   ],
   "source": [
    "df3 = pd.read_csv(\"~/hosthome/1_data/all3.csv\")"
   ]
  },
  {
   "cell_type": "code",
   "execution_count": 2,
   "metadata": {},
   "outputs": [
    {
     "data": {
      "text/plain": [
       "Index([u'Unnamed: 0', u'Unnamed: 0.1', u'accommodates', u'bathrooms',\n",
       "       u'bedrooms', u'borough', u'city', u'country', u'host_id',\n",
       "       u'last_modified', u'latitude', u'location', u'longitude', u'minstay',\n",
       "       u'name', u'name_0', u'neighborhood', u'overall_satisfaction', u'price',\n",
       "       u'reviews', u'room_id', u'room_type', u'survey_id'],\n",
       "      dtype='object')"
      ]
     },
     "execution_count": 2,
     "metadata": {},
     "output_type": "execute_result"
    }
   ],
   "source": [
    "df3.columns"
   ]
  },
  {
   "cell_type": "code",
   "execution_count": 4,
   "metadata": {},
   "outputs": [],
   "source": [
    "df3 = df3.drop(['Unnamed: 0', 'Unnamed: 0.1', 'bathrooms', 'borough', 'country',\n",
    "       'last_modified', 'latitude', 'location', 'longitude', 'minstay',\n",
    "       'name', 'neighborhood', 'survey_id'], axis=1)"
   ]
  },
  {
   "cell_type": "code",
   "execution_count": 6,
   "metadata": {
    "collapsed": true
   },
   "outputs": [],
   "source": [
    "df3 = df3.drop(['name_0'], axis=1)"
   ]
  },
  {
   "cell_type": "code",
   "execution_count": 7,
   "metadata": {},
   "outputs": [
    {
     "data": {
      "text/html": [
       "<div>\n",
       "<table border=\"1\" class=\"dataframe\">\n",
       "  <thead>\n",
       "    <tr style=\"text-align: right;\">\n",
       "      <th></th>\n",
       "      <th>accommodates</th>\n",
       "      <th>bedrooms</th>\n",
       "      <th>city</th>\n",
       "      <th>host_id</th>\n",
       "      <th>overall_satisfaction</th>\n",
       "      <th>price</th>\n",
       "      <th>reviews</th>\n",
       "      <th>room_id</th>\n",
       "      <th>room_type</th>\n",
       "    </tr>\n",
       "  </thead>\n",
       "  <tbody>\n",
       "    <tr>\n",
       "      <th>0</th>\n",
       "      <td>10.0</td>\n",
       "      <td>1.0</td>\n",
       "      <td>Hungary</td>\n",
       "      <td>85717154.0</td>\n",
       "      <td>0.0</td>\n",
       "      <td>66.0</td>\n",
       "      <td>0.0</td>\n",
       "      <td>14381799</td>\n",
       "      <td>Shared room</td>\n",
       "    </tr>\n",
       "    <tr>\n",
       "      <th>1</th>\n",
       "      <td>11.0</td>\n",
       "      <td>1.0</td>\n",
       "      <td>Hungary</td>\n",
       "      <td>30857397.0</td>\n",
       "      <td>4.5</td>\n",
       "      <td>64.0</td>\n",
       "      <td>5.0</td>\n",
       "      <td>8873017</td>\n",
       "      <td>Shared room</td>\n",
       "    </tr>\n",
       "    <tr>\n",
       "      <th>2</th>\n",
       "      <td>4.0</td>\n",
       "      <td>1.0</td>\n",
       "      <td>Hungary</td>\n",
       "      <td>60476809.0</td>\n",
       "      <td>0.0</td>\n",
       "      <td>13.0</td>\n",
       "      <td>2.0</td>\n",
       "      <td>11487631</td>\n",
       "      <td>Shared room</td>\n",
       "    </tr>\n",
       "    <tr>\n",
       "      <th>3</th>\n",
       "      <td>12.0</td>\n",
       "      <td>1.0</td>\n",
       "      <td>Hungary</td>\n",
       "      <td>4278809.0</td>\n",
       "      <td>4.0</td>\n",
       "      <td>53.0</td>\n",
       "      <td>3.0</td>\n",
       "      <td>5378469</td>\n",
       "      <td>Shared room</td>\n",
       "    </tr>\n",
       "    <tr>\n",
       "      <th>4</th>\n",
       "      <td>4.0</td>\n",
       "      <td>1.0</td>\n",
       "      <td>Hungary</td>\n",
       "      <td>66212321.0</td>\n",
       "      <td>0.0</td>\n",
       "      <td>48.0</td>\n",
       "      <td>0.0</td>\n",
       "      <td>12422262</td>\n",
       "      <td>Shared room</td>\n",
       "    </tr>\n",
       "  </tbody>\n",
       "</table>\n",
       "</div>"
      ],
      "text/plain": [
       "   accommodates  bedrooms     city     host_id  overall_satisfaction  price  \\\n",
       "0          10.0       1.0  Hungary  85717154.0                   0.0   66.0   \n",
       "1          11.0       1.0  Hungary  30857397.0                   4.5   64.0   \n",
       "2           4.0       1.0  Hungary  60476809.0                   0.0   13.0   \n",
       "3          12.0       1.0  Hungary   4278809.0                   4.0   53.0   \n",
       "4           4.0       1.0  Hungary  66212321.0                   0.0   48.0   \n",
       "\n",
       "   reviews   room_id    room_type  \n",
       "0      0.0  14381799  Shared room  \n",
       "1      5.0   8873017  Shared room  \n",
       "2      2.0  11487631  Shared room  \n",
       "3      3.0   5378469  Shared room  \n",
       "4      0.0  12422262  Shared room  "
      ]
     },
     "execution_count": 7,
     "metadata": {},
     "output_type": "execute_result"
    }
   ],
   "source": [
    "df3.head()"
   ]
  },
  {
   "cell_type": "code",
   "execution_count": 9,
   "metadata": {},
   "outputs": [
    {
     "data": {
      "text/plain": [
       "new_york              191694\n",
       "paris                 123373\n",
       "london                119397\n",
       "los_angeles           104244\n",
       "rome                   56994\n",
       "toronto                43900\n",
       "montreal               43564\n",
       "switzerland            42096\n",
       "san_francisco          36987\n",
       "miami                  31903\n",
       "sydney                 31877\n",
       "washington             30961\n",
       "philadelphia           27644\n",
       "seattle                24052\n",
       "lisbon                 22317\n",
       "san_diego              20464\n",
       "nice                   19456\n",
       "vancouver_bc           19323\n",
       "lyon                   17202\n",
       "oahu                   15876\n",
       "portland               15869\n",
       "veneto                 15743\n",
       "new_orleans            15288\n",
       "venice                 11443\n",
       "seoul                  11121\n",
       "hungary                10605\n",
       "singapore              10027\n",
       "reykjavik               8886\n",
       "san diego               8225\n",
       "vienna                  7840\n",
       "nashville               7369\n",
       "versailles              6271\n",
       "vancouver bc            5781\n",
       "iceland                 5573\n",
       "moscow                  5561\n",
       "porto                   5150\n",
       "kenya                   4420\n",
       "lake tahoe              4365\n",
       "warsaw                  3863\n",
       "palermo                 3770\n",
       "ottawa                  3589\n",
       "turin                   3301\n",
       "zurich                  2271\n",
       "quebec city             2022\n",
       "newhaven_ct             1857\n",
       "peel                    1847\n",
       "menorca                 1769\n",
       "york                    1667\n",
       "tallin                  1536\n",
       "wellington              1338\n",
       "jersey_city             1284\n",
       "victoria bc             1026\n",
       "victoria_bc              895\n",
       "saint_lucia              642\n",
       "richmond_bc              627\n",
       "savannah                 494\n",
       "santa barbara            467\n",
       "lincoln_county           435\n",
       "kitchener_waterloo       326\n",
       "joshua_tree              227\n",
       "yellowknife              153\n",
       "newport                   70\n",
       "linkoping                 50\n",
       "Name: city, dtype: int64"
      ]
     },
     "execution_count": 9,
     "metadata": {},
     "output_type": "execute_result"
    }
   ],
   "source": [
    "pd.options.display.max_rows = 2000000\n",
    "df3['city'] = df3.city.str.lower()\n",
    "df3[\"city\"].value_counts()"
   ]
  },
  {
   "cell_type": "code",
   "execution_count": 10,
   "metadata": {},
   "outputs": [
    {
     "data": {
      "text/html": [
       "<div>\n",
       "<table border=\"1\" class=\"dataframe\">\n",
       "  <thead>\n",
       "    <tr style=\"text-align: right;\">\n",
       "      <th></th>\n",
       "      <th>accommodates</th>\n",
       "      <th>bedrooms</th>\n",
       "      <th>city</th>\n",
       "      <th>host_id</th>\n",
       "      <th>overall_satisfaction</th>\n",
       "      <th>price</th>\n",
       "      <th>reviews</th>\n",
       "      <th>room_id</th>\n",
       "      <th>room_type</th>\n",
       "    </tr>\n",
       "  </thead>\n",
       "  <tbody>\n",
       "    <tr>\n",
       "      <th>49602</th>\n",
       "      <td>4.0</td>\n",
       "      <td>1.0</td>\n",
       "      <td>london</td>\n",
       "      <td>1991.0</td>\n",
       "      <td>4.5</td>\n",
       "      <td>42.0</td>\n",
       "      <td>8.0</td>\n",
       "      <td>1782</td>\n",
       "      <td>Private room</td>\n",
       "    </tr>\n",
       "    <tr>\n",
       "      <th>49603</th>\n",
       "      <td>2.0</td>\n",
       "      <td>1.0</td>\n",
       "      <td>london</td>\n",
       "      <td>11077537.0</td>\n",
       "      <td>4.5</td>\n",
       "      <td>123.0</td>\n",
       "      <td>167.0</td>\n",
       "      <td>6487</td>\n",
       "      <td>Private room</td>\n",
       "    </tr>\n",
       "    <tr>\n",
       "      <th>49604</th>\n",
       "      <td>4.0</td>\n",
       "      <td>1.0</td>\n",
       "      <td>london</td>\n",
       "      <td>29896.0</td>\n",
       "      <td>4.5</td>\n",
       "      <td>151.0</td>\n",
       "      <td>77.0</td>\n",
       "      <td>9293</td>\n",
       "      <td>Private room</td>\n",
       "    </tr>\n",
       "    <tr>\n",
       "      <th>49605</th>\n",
       "      <td>2.0</td>\n",
       "      <td>1.0</td>\n",
       "      <td>london</td>\n",
       "      <td>31655.0</td>\n",
       "      <td>5.0</td>\n",
       "      <td>61.0</td>\n",
       "      <td>55.0</td>\n",
       "      <td>9554</td>\n",
       "      <td>Private room</td>\n",
       "    </tr>\n",
       "    <tr>\n",
       "      <th>49606</th>\n",
       "      <td>1.0</td>\n",
       "      <td>1.0</td>\n",
       "      <td>london</td>\n",
       "      <td>31968.0</td>\n",
       "      <td>4.5</td>\n",
       "      <td>104.0</td>\n",
       "      <td>1.0</td>\n",
       "      <td>9607</td>\n",
       "      <td>Private room</td>\n",
       "    </tr>\n",
       "  </tbody>\n",
       "</table>\n",
       "</div>"
      ],
      "text/plain": [
       "       accommodates  bedrooms    city     host_id  overall_satisfaction  \\\n",
       "49602           4.0       1.0  london      1991.0                   4.5   \n",
       "49603           2.0       1.0  london  11077537.0                   4.5   \n",
       "49604           4.0       1.0  london     29896.0                   4.5   \n",
       "49605           2.0       1.0  london     31655.0                   5.0   \n",
       "49606           1.0       1.0  london     31968.0                   4.5   \n",
       "\n",
       "       price  reviews  room_id     room_type  \n",
       "49602   42.0      8.0     1782  Private room  \n",
       "49603  123.0    167.0     6487  Private room  \n",
       "49604  151.0     77.0     9293  Private room  \n",
       "49605   61.0     55.0     9554  Private room  \n",
       "49606  104.0      1.0     9607  Private room  "
      ]
     },
     "execution_count": 10,
     "metadata": {},
     "output_type": "execute_result"
    }
   ],
   "source": [
    "df3 = df3[(df3['city'] == 'new_york') | (df3['city'] == 'paris') | (df3['city'] == 'los_angeles') | (df3['city'] == 'london') |\n",
    "        (df3['city'] == 'rome') | (df3['city'] == 'seoul') | (df3['city'] == 'singapore')]\n",
    "df3.head()"
   ]
  },
  {
   "cell_type": "code",
   "execution_count": 11,
   "metadata": {},
   "outputs": [
    {
     "data": {
      "text/plain": [
       "new_york       191694\n",
       "paris          123373\n",
       "london         119397\n",
       "los_angeles    104244\n",
       "rome            56994\n",
       "seoul           11121\n",
       "singapore       10027\n",
       "Name: city, dtype: int64"
      ]
     },
     "execution_count": 11,
     "metadata": {},
     "output_type": "execute_result"
    }
   ],
   "source": [
    "df3[\"city\"].value_counts()"
   ]
  },
  {
   "cell_type": "code",
   "execution_count": 12,
   "metadata": {
    "collapsed": true
   },
   "outputs": [],
   "source": [
    "df3.to_csv(\"~/hosthome/1_data/all3_new.csv\")"
   ]
  },
  {
   "cell_type": "code",
   "execution_count": null,
   "metadata": {
    "collapsed": true
   },
   "outputs": [],
   "source": []
  }
 ],
 "metadata": {
  "kernelspec": {
   "display_name": "Python 2",
   "language": "python",
   "name": "python2"
  },
  "language_info": {
   "codemirror_mode": {
    "name": "ipython",
    "version": 2
   },
   "file_extension": ".py",
   "mimetype": "text/x-python",
   "name": "python",
   "nbconvert_exporter": "python",
   "pygments_lexer": "ipython2",
   "version": "2.7.13"
  }
 },
 "nbformat": 4,
 "nbformat_minor": 2
}
