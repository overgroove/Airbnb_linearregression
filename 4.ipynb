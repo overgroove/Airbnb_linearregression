{
 "cells": [
  {
   "cell_type": "code",
   "execution_count": 1,
   "metadata": {},
   "outputs": [
    {
     "name": "stderr",
     "output_type": "stream",
     "text": [
      "/home/dockeruser/anaconda2/lib/python2.7/site-packages/IPython/core/interactiveshell.py:2717: DtypeWarning: Columns (5,11,14) have mixed types. Specify dtype option on import or set low_memory=False.\n",
      "  interactivity=interactivity, compiler=compiler, result=result)\n"
     ]
    }
   ],
   "source": [
    "df4 = pd.read_csv(\"~/hosthome/1_data/all4.csv\")"
   ]
  },
  {
   "cell_type": "code",
   "execution_count": 2,
   "metadata": {},
   "outputs": [
    {
     "data": {
      "text/plain": [
       "Index([u'Unnamed: 0', u'Unnamed: 0.1', u'accommodates', u'bathrooms',\n",
       "       u'bedrooms', u'borough', u'city', u'country', u'host_id',\n",
       "       u'last_modified', u'latitude', u'location', u'longitude', u'minstay',\n",
       "       u'name', u'neighborhood', u'overall_satisfaction', u'price', u'reviews',\n",
       "       u'room_id', u'room_type', u'survey_id'],\n",
       "      dtype='object')"
      ]
     },
     "execution_count": 2,
     "metadata": {},
     "output_type": "execute_result"
    }
   ],
   "source": [
    "df4.columns"
   ]
  },
  {
   "cell_type": "code",
   "execution_count": 3,
   "metadata": {
    "collapsed": true
   },
   "outputs": [],
   "source": [
    "df4 = df4.drop(['Unnamed: 0', 'Unnamed: 0.1', 'bathrooms', 'borough', 'country',\n",
    "       'last_modified', 'latitude', 'location', 'longitude', 'minstay',\n",
    "       'name', 'neighborhood', 'survey_id'], axis=1)"
   ]
  },
  {
   "cell_type": "code",
   "execution_count": 4,
   "metadata": {},
   "outputs": [
    {
     "data": {
      "text/plain": [
       "new_york                 196192\n",
       "paris                    145364\n",
       "london                   126596\n",
       "los_angeles              107575\n",
       "rome                      58916\n",
       "toronto                   46896\n",
       "switzerland               44767\n",
       "san_francisco             38100\n",
       "sydney                    37553\n",
       "montreal                  32617\n",
       "miami                     29743\n",
       "veneto                    27843\n",
       "philadelphia              27765\n",
       "lisbon                    23285\n",
       "washington                22785\n",
       "san_diego                 22135\n",
       "seoul                     20024\n",
       "vancouver_bc              19730\n",
       "nice                      19673\n",
       "seattle                   18462\n",
       "new_orleans               16546\n",
       "oahu                      16297\n",
       "portland                  15801\n",
       "vienna                    13284\n",
       "venice                    12131\n",
       "iceland                   10397\n",
       "reykjavik                  9209\n",
       "san diego                  8316\n",
       "lyon                       8106\n",
       "nashville                  7949\n",
       "moscow                     7790\n",
       "sri_lanka                  7107\n",
       "versailles                 6515\n",
       "singapore                  5796\n",
       "las_vegas                  5268\n",
       "madrid                     4790\n",
       "porto                      4174\n",
       "warsaw                     4016\n",
       "palermo                    3872\n",
       "ottawa                     3714\n",
       "turin                      3403\n",
       "wellington                 2304\n",
       "peel                       1936\n",
       "newhaven_ct                1885\n",
       "menorca                    1757\n",
       "york                       1607\n",
       "tallin                     1574\n",
       "jersey_city                1538\n",
       "queenstown                 1171\n",
       "prince_georges_county      1120\n",
       "victoria_bc                 890\n",
       "lincoln_county              810\n",
       "saint_lucia                 718\n",
       "richmond_bc                 620\n",
       "savannah                    615\n",
       "kitchener_waterloo          615\n",
       "santa barbara               403\n",
       "joshua_tree                 234\n",
       "yellowknife                 161\n",
       "newport                      94\n",
       "linkoping                    50\n",
       "Name: city, dtype: int64"
      ]
     },
     "execution_count": 4,
     "metadata": {},
     "output_type": "execute_result"
    }
   ],
   "source": [
    "pd.options.display.max_rows = 2000000\n",
    "df4['city'] = df4.city.str.lower()\n",
    "df4['city'].value_counts()"
   ]
  },
  {
   "cell_type": "code",
   "execution_count": 5,
   "metadata": {},
   "outputs": [
    {
     "data": {
      "text/html": [
       "<div>\n",
       "<table border=\"1\" class=\"dataframe\">\n",
       "  <thead>\n",
       "    <tr style=\"text-align: right;\">\n",
       "      <th></th>\n",
       "      <th>accommodates</th>\n",
       "      <th>bedrooms</th>\n",
       "      <th>city</th>\n",
       "      <th>host_id</th>\n",
       "      <th>overall_satisfaction</th>\n",
       "      <th>price</th>\n",
       "      <th>reviews</th>\n",
       "      <th>room_id</th>\n",
       "      <th>room_type</th>\n",
       "    </tr>\n",
       "  </thead>\n",
       "  <tbody>\n",
       "    <tr>\n",
       "      <th>42197</th>\n",
       "      <td>2.0</td>\n",
       "      <td>1.0</td>\n",
       "      <td>london</td>\n",
       "      <td>11077537.0</td>\n",
       "      <td>4.5</td>\n",
       "      <td>122.0</td>\n",
       "      <td>180.0</td>\n",
       "      <td>6487</td>\n",
       "      <td>Private room</td>\n",
       "    </tr>\n",
       "    <tr>\n",
       "      <th>42198</th>\n",
       "      <td>2.0</td>\n",
       "      <td>1.0</td>\n",
       "      <td>london</td>\n",
       "      <td>16902.0</td>\n",
       "      <td>NaN</td>\n",
       "      <td>185.0</td>\n",
       "      <td>0.0</td>\n",
       "      <td>7016</td>\n",
       "      <td>Entire home/apt</td>\n",
       "    </tr>\n",
       "    <tr>\n",
       "      <th>42199</th>\n",
       "      <td>4.0</td>\n",
       "      <td>2.0</td>\n",
       "      <td>london</td>\n",
       "      <td>29896.0</td>\n",
       "      <td>4.5</td>\n",
       "      <td>179.0</td>\n",
       "      <td>88.0</td>\n",
       "      <td>9293</td>\n",
       "      <td>Entire home/apt</td>\n",
       "    </tr>\n",
       "    <tr>\n",
       "      <th>42200</th>\n",
       "      <td>2.0</td>\n",
       "      <td>1.0</td>\n",
       "      <td>london</td>\n",
       "      <td>31655.0</td>\n",
       "      <td>5.0</td>\n",
       "      <td>54.0</td>\n",
       "      <td>64.0</td>\n",
       "      <td>9554</td>\n",
       "      <td>Private room</td>\n",
       "    </tr>\n",
       "    <tr>\n",
       "      <th>42201</th>\n",
       "      <td>1.0</td>\n",
       "      <td>1.0</td>\n",
       "      <td>london</td>\n",
       "      <td>31968.0</td>\n",
       "      <td>4.0</td>\n",
       "      <td>73.0</td>\n",
       "      <td>5.0</td>\n",
       "      <td>9607</td>\n",
       "      <td>Private room</td>\n",
       "    </tr>\n",
       "  </tbody>\n",
       "</table>\n",
       "</div>"
      ],
      "text/plain": [
       "       accommodates  bedrooms    city     host_id  overall_satisfaction  \\\n",
       "42197           2.0       1.0  london  11077537.0                   4.5   \n",
       "42198           2.0       1.0  london     16902.0                   NaN   \n",
       "42199           4.0       2.0  london     29896.0                   4.5   \n",
       "42200           2.0       1.0  london     31655.0                   5.0   \n",
       "42201           1.0       1.0  london     31968.0                   4.0   \n",
       "\n",
       "       price  reviews  room_id        room_type  \n",
       "42197  122.0    180.0     6487     Private room  \n",
       "42198  185.0      0.0     7016  Entire home/apt  \n",
       "42199  179.0     88.0     9293  Entire home/apt  \n",
       "42200   54.0     64.0     9554     Private room  \n",
       "42201   73.0      5.0     9607     Private room  "
      ]
     },
     "execution_count": 5,
     "metadata": {},
     "output_type": "execute_result"
    }
   ],
   "source": [
    "df4 = df4[(df4['city'] == 'new_york') | (df4['city'] == 'paris') | (df4['city'] == 'los_angeles') | (df4['city'] == 'london') |\n",
    "        (df4['city'] == 'rome') | (df4['city'] == 'seoul') | (df4['city'] == 'singapore')]\n",
    "df4.head()"
   ]
  },
  {
   "cell_type": "code",
   "execution_count": 6,
   "metadata": {},
   "outputs": [
    {
     "data": {
      "text/plain": [
       "new_york       196192\n",
       "paris          145364\n",
       "london         126596\n",
       "los_angeles    107575\n",
       "rome            58916\n",
       "seoul           20024\n",
       "singapore        5796\n",
       "Name: city, dtype: int64"
      ]
     },
     "execution_count": 6,
     "metadata": {},
     "output_type": "execute_result"
    }
   ],
   "source": [
    "df4['city'].value_counts()"
   ]
  },
  {
   "cell_type": "code",
   "execution_count": 7,
   "metadata": {
    "collapsed": true
   },
   "outputs": [],
   "source": [
    "df4.to_csv(\"~/hosthome/1_data/all4_new.csv\")"
   ]
  },
  {
   "cell_type": "code",
   "execution_count": null,
   "metadata": {
    "collapsed": true
   },
   "outputs": [],
   "source": []
  }
 ],
 "metadata": {
  "kernelspec": {
   "display_name": "Python 2",
   "language": "python",
   "name": "python2"
  },
  "language_info": {
   "codemirror_mode": {
    "name": "ipython",
    "version": 2
   },
   "file_extension": ".py",
   "mimetype": "text/x-python",
   "name": "python",
   "nbconvert_exporter": "python",
   "pygments_lexer": "ipython2",
   "version": "2.7.13"
  }
 },
 "nbformat": 4,
 "nbformat_minor": 2
}
