{
 "cells": [
  {
   "cell_type": "code",
   "execution_count": 1,
   "metadata": {},
   "outputs": [
    {
     "name": "stderr",
     "output_type": "stream",
     "text": [
      "/home/dockeruser/anaconda2/lib/python2.7/site-packages/IPython/core/interactiveshell.py:2717: DtypeWarning: Columns (5,11,14,15,16,19) have mixed types. Specify dtype option on import or set low_memory=False.\n",
      "  interactivity=interactivity, compiler=compiler, result=result)\n"
     ]
    }
   ],
   "source": [
    "df2 = pd.read_csv(\"~/hosthome/1_data/all2.csv\")"
   ]
  },
  {
   "cell_type": "code",
   "execution_count": 2,
   "metadata": {},
   "outputs": [
    {
     "data": {
      "text/plain": [
       "Index([u'Unnamed: 0', u'Unnamed: 0.1', u'accommodates', u'bathrooms',\n",
       "       u'bedrooms', u'borough', u'city', u'country', u'host_id',\n",
       "       u'last_modified', u'latitude', u'location', u'longitude', u'minstay',\n",
       "       u'name', u'name_0', u'neighborhood', u'overall_satisfaction', u'price',\n",
       "       u'property_type', u'reviews', u'room_id', u'room_type', u'survey_id'],\n",
       "      dtype='object')"
      ]
     },
     "execution_count": 2,
     "metadata": {},
     "output_type": "execute_result"
    }
   ],
   "source": [
    "df2.columns"
   ]
  },
  {
   "cell_type": "code",
   "execution_count": 4,
   "metadata": {},
   "outputs": [],
   "source": [
    "df2 = df2.drop(['Unnamed: 0', 'Unnamed: 0.1', 'bathrooms', 'borough', 'country',\n",
    "       'last_modified', 'latitude', 'location', 'longitude', 'minstay',\n",
    "       'name', 'neighborhood', 'property_type', 'survey_id'], axis=1)"
   ]
  },
  {
   "cell_type": "code",
   "execution_count": 9,
   "metadata": {
    "collapsed": true
   },
   "outputs": [],
   "source": [
    "df2 = df2.drop(['name_0'], axis=1)"
   ]
  },
  {
   "cell_type": "code",
   "execution_count": 10,
   "metadata": {},
   "outputs": [
    {
     "data": {
      "text/plain": [
       "new_york       171284\n",
       "paris          121052\n",
       "los_angeles    101865\n",
       "london         100332\n",
       "rome            44840\n",
       "los angeles     30696\n",
       "seoul           22446\n",
       "singapore        7201\n",
       "Name: city, dtype: int64"
      ]
     },
     "execution_count": 10,
     "metadata": {},
     "output_type": "execute_result"
    }
   ],
   "source": [
    "pd.options.display.max_rows = 2000000\n",
    "df2['city'] = df2.city.str.lower()\n",
    "df2[\"city\"].value_counts()"
   ]
  },
  {
   "cell_type": "code",
   "execution_count": 11,
   "metadata": {},
   "outputs": [
    {
     "data": {
      "text/html": [
       "<div>\n",
       "<table border=\"1\" class=\"dataframe\">\n",
       "  <thead>\n",
       "    <tr style=\"text-align: right;\">\n",
       "      <th></th>\n",
       "      <th>accommodates</th>\n",
       "      <th>bedrooms</th>\n",
       "      <th>city</th>\n",
       "      <th>host_id</th>\n",
       "      <th>overall_satisfaction</th>\n",
       "      <th>price</th>\n",
       "      <th>reviews</th>\n",
       "      <th>room_id</th>\n",
       "      <th>room_type</th>\n",
       "    </tr>\n",
       "  </thead>\n",
       "  <tbody>\n",
       "    <tr>\n",
       "      <th>51278</th>\n",
       "      <td>4.0</td>\n",
       "      <td>1.0</td>\n",
       "      <td>london</td>\n",
       "      <td>1991.0</td>\n",
       "      <td>4.5</td>\n",
       "      <td>48.0</td>\n",
       "      <td>3.0</td>\n",
       "      <td>1782</td>\n",
       "      <td>Private room</td>\n",
       "    </tr>\n",
       "    <tr>\n",
       "      <th>51279</th>\n",
       "      <td>4.0</td>\n",
       "      <td>2.0</td>\n",
       "      <td>london</td>\n",
       "      <td>29896.0</td>\n",
       "      <td>4.5</td>\n",
       "      <td>142.0</td>\n",
       "      <td>73.0</td>\n",
       "      <td>9293</td>\n",
       "      <td>Private room</td>\n",
       "    </tr>\n",
       "    <tr>\n",
       "      <th>51280</th>\n",
       "      <td>2.0</td>\n",
       "      <td>NaN</td>\n",
       "      <td>london</td>\n",
       "      <td>31655.0</td>\n",
       "      <td>5.0</td>\n",
       "      <td>63.0</td>\n",
       "      <td>53.0</td>\n",
       "      <td>9554</td>\n",
       "      <td>Private room</td>\n",
       "    </tr>\n",
       "    <tr>\n",
       "      <th>51281</th>\n",
       "      <td>1.0</td>\n",
       "      <td>NaN</td>\n",
       "      <td>london</td>\n",
       "      <td>31968.0</td>\n",
       "      <td>4.5</td>\n",
       "      <td>64.0</td>\n",
       "      <td>1.0</td>\n",
       "      <td>9607</td>\n",
       "      <td>Private room</td>\n",
       "    </tr>\n",
       "    <tr>\n",
       "      <th>51282</th>\n",
       "      <td>7.0</td>\n",
       "      <td>2.0</td>\n",
       "      <td>london</td>\n",
       "      <td>40327.0</td>\n",
       "      <td>NaN</td>\n",
       "      <td>295.0</td>\n",
       "      <td>0.0</td>\n",
       "      <td>11067</td>\n",
       "      <td>Entire home/apt</td>\n",
       "    </tr>\n",
       "  </tbody>\n",
       "</table>\n",
       "</div>"
      ],
      "text/plain": [
       "       accommodates  bedrooms    city  host_id  overall_satisfaction  price  \\\n",
       "51278           4.0       1.0  london   1991.0                   4.5   48.0   \n",
       "51279           4.0       2.0  london  29896.0                   4.5  142.0   \n",
       "51280           2.0       NaN  london  31655.0                   5.0   63.0   \n",
       "51281           1.0       NaN  london  31968.0                   4.5   64.0   \n",
       "51282           7.0       2.0  london  40327.0                   NaN  295.0   \n",
       "\n",
       "       reviews  room_id        room_type  \n",
       "51278      3.0     1782     Private room  \n",
       "51279     73.0     9293     Private room  \n",
       "51280     53.0     9554     Private room  \n",
       "51281      1.0     9607     Private room  \n",
       "51282      0.0    11067  Entire home/apt  "
      ]
     },
     "execution_count": 11,
     "metadata": {},
     "output_type": "execute_result"
    }
   ],
   "source": [
    "df2 = df2[(df2['city'] == 'new_york') | (df2['city'] == 'paris') | (df2['city'] == 'los_angeles') | (df2['city'] == 'london') |\n",
    "        (df2['city'] == 'rome') | (df2['city'] == 'los angeles') | (df2['city'] == 'seoul') | (df2['city'] == 'singapore')]\n",
    "df2.head()"
   ]
  },
  {
   "cell_type": "code",
   "execution_count": 12,
   "metadata": {},
   "outputs": [
    {
     "data": {
      "text/plain": [
       "new_york       171284\n",
       "paris          121052\n",
       "los_angeles    101865\n",
       "london         100332\n",
       "rome            44840\n",
       "los angeles     30696\n",
       "seoul           22446\n",
       "singapore        7201\n",
       "Name: city, dtype: int64"
      ]
     },
     "execution_count": 12,
     "metadata": {},
     "output_type": "execute_result"
    }
   ],
   "source": [
    "df2['city'].value_counts()"
   ]
  },
  {
   "cell_type": "code",
   "execution_count": 13,
   "metadata": {
    "collapsed": true
   },
   "outputs": [],
   "source": [
    "df2.to_csv(\"~/hosthome/1_data/all2_new.csv\")"
   ]
  },
  {
   "cell_type": "code",
   "execution_count": null,
   "metadata": {
    "collapsed": true
   },
   "outputs": [],
   "source": []
  }
 ],
 "metadata": {
  "kernelspec": {
   "display_name": "Python 2",
   "language": "python",
   "name": "python2"
  },
  "language_info": {
   "codemirror_mode": {
    "name": "ipython",
    "version": 2
   },
   "file_extension": ".py",
   "mimetype": "text/x-python",
   "name": "python",
   "nbconvert_exporter": "python",
   "pygments_lexer": "ipython2",
   "version": "2.7.13"
  }
 },
 "nbformat": 4,
 "nbformat_minor": 2
}
