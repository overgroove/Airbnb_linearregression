{
 "cells": [
  {
   "cell_type": "code",
   "execution_count": 1,
   "metadata": {},
   "outputs": [
    {
     "name": "stderr",
     "output_type": "stream",
     "text": [
      "/home/dockeruser/anaconda2/lib/python2.7/site-packages/IPython/core/interactiveshell.py:2717: DtypeWarning: Columns (5,11,14,18) have mixed types. Specify dtype option on import or set low_memory=False.\n",
      "  interactivity=interactivity, compiler=compiler, result=result)\n"
     ]
    }
   ],
   "source": [
    "df5 = pd.read_csv(\"~/hosthome/1_data/all5.csv\")"
   ]
  },
  {
   "cell_type": "code",
   "execution_count": 2,
   "metadata": {},
   "outputs": [
    {
     "data": {
      "text/plain": [
       "Index([u'Unnamed: 0', u'Unnamed: 0.1', u'accommodates', u'bathrooms',\n",
       "       u'bedrooms', u'borough', u'city', u'country', u'host_id',\n",
       "       u'last_modified', u'latitude', u'location', u'longitude', u'minstay',\n",
       "       u'name', u'neighborhood', u'overall_satisfaction', u'price',\n",
       "       u'property_type', u'reviews', u'room_id', u'room_type', u'survey_id'],\n",
       "      dtype='object')"
      ]
     },
     "execution_count": 2,
     "metadata": {},
     "output_type": "execute_result"
    }
   ],
   "source": [
    "df5.columns"
   ]
  },
  {
   "cell_type": "code",
   "execution_count": 3,
   "metadata": {
    "collapsed": true
   },
   "outputs": [],
   "source": [
    "df5 = df5.drop(['Unnamed: 0', 'Unnamed: 0.1', 'bathrooms', 'borough', 'country',\n",
    "       'last_modified', 'latitude', 'location', 'longitude', 'minstay',\n",
    "       'name', 'neighborhood', 'property_type', 'survey_id'], axis=1)"
   ]
  },
  {
   "cell_type": "code",
   "execution_count": 4,
   "metadata": {},
   "outputs": [
    {
     "data": {
      "text/plain": [
       "new_york                 159026\n",
       "paris                    154218\n",
       "los_angeles              122111\n",
       "london                    86538\n",
       "rome                      61882\n",
       "toronto                   50937\n",
       "switzerland               46717\n",
       "new york                  39745\n",
       "san_francisco             38404\n",
       "tuscany                   37295\n",
       "montreal                  34986\n",
       "veneto                    32093\n",
       "miami                     29817\n",
       "philadelphia              27041\n",
       "washington                26009\n",
       "lisbon                    24167\n",
       "san_diego                 23913\n",
       "seoul                     21588\n",
       "vancouver_bc              21121\n",
       "nice                      20087\n",
       "seattle                   18972\n",
       "sydney                    17343\n",
       "oahu                      17309\n",
       "new_orleans               17306\n",
       "portland                  12948\n",
       "venice                    12175\n",
       "iceland                   10825\n",
       "lyon                       9816\n",
       "reykjavik                  9044\n",
       "sri_lanka                  8725\n",
       "moscow                     8370\n",
       "singapore                  6753\n",
       "vienna                     5445\n",
       "madrid                     5393\n",
       "las_vegas                  5261\n",
       "porto                      4461\n",
       "palermo                    3996\n",
       "ottawa                     3993\n",
       "nashville                  3603\n",
       "warsaw                     3299\n",
       "tallin                     3046\n",
       "wellington                 2473\n",
       "newhaven_ct                2321\n",
       "menorca                    1866\n",
       "victoria_bc                1780\n",
       "jersey_city                1561\n",
       "york                       1195\n",
       "queenstown                 1137\n",
       "prince_georges_county      1121\n",
       "peel                        896\n",
       "pittsburgh                  850\n",
       "saint lucia                 743\n",
       "savannah                    717\n",
       "kitchener_waterloo          617\n",
       "richmond bc                 561\n",
       "lincoln county              492\n",
       "portland_me                 409\n",
       "santa barbara               398\n",
       "yellowknife                 177\n",
       "joshua_tree                 154\n",
       "newport                      61\n",
       "linkoping                    56\n",
       "Name: city, dtype: int64"
      ]
     },
     "execution_count": 4,
     "metadata": {},
     "output_type": "execute_result"
    }
   ],
   "source": [
    "pd.options.display.max_rows = 2000000\n",
    "df5['city'] = df5.city.str.lower()\n",
    "df5['city'].value_counts()"
   ]
  },
  {
   "cell_type": "code",
   "execution_count": 5,
   "metadata": {},
   "outputs": [
    {
     "data": {
      "text/html": [
       "<div>\n",
       "<table border=\"1\" class=\"dataframe\">\n",
       "  <thead>\n",
       "    <tr style=\"text-align: right;\">\n",
       "      <th></th>\n",
       "      <th>accommodates</th>\n",
       "      <th>bedrooms</th>\n",
       "      <th>city</th>\n",
       "      <th>host_id</th>\n",
       "      <th>overall_satisfaction</th>\n",
       "      <th>price</th>\n",
       "      <th>reviews</th>\n",
       "      <th>room_id</th>\n",
       "      <th>room_type</th>\n",
       "    </tr>\n",
       "  </thead>\n",
       "  <tbody>\n",
       "    <tr>\n",
       "      <th>43133</th>\n",
       "      <td>5.0</td>\n",
       "      <td>1.0</td>\n",
       "      <td>london</td>\n",
       "      <td>273864.0</td>\n",
       "      <td>5.0</td>\n",
       "      <td>107.0</td>\n",
       "      <td>16.0</td>\n",
       "      <td>350530</td>\n",
       "      <td>Entire home/apt</td>\n",
       "    </tr>\n",
       "    <tr>\n",
       "      <th>43134</th>\n",
       "      <td>3.0</td>\n",
       "      <td>0.0</td>\n",
       "      <td>london</td>\n",
       "      <td>24593225.0</td>\n",
       "      <td>NaN</td>\n",
       "      <td>46.0</td>\n",
       "      <td>0.0</td>\n",
       "      <td>10041582</td>\n",
       "      <td>Entire home/apt</td>\n",
       "    </tr>\n",
       "    <tr>\n",
       "      <th>43135</th>\n",
       "      <td>NaN</td>\n",
       "      <td>3.0</td>\n",
       "      <td>london</td>\n",
       "      <td>857701.0</td>\n",
       "      <td>5.0</td>\n",
       "      <td>306.0</td>\n",
       "      <td>2.0</td>\n",
       "      <td>55574</td>\n",
       "      <td>Entire home/apt</td>\n",
       "    </tr>\n",
       "    <tr>\n",
       "      <th>43136</th>\n",
       "      <td>4.0</td>\n",
       "      <td>2.0</td>\n",
       "      <td>london</td>\n",
       "      <td>4926901.0</td>\n",
       "      <td>4.5</td>\n",
       "      <td>192.0</td>\n",
       "      <td>4.0</td>\n",
       "      <td>6936680</td>\n",
       "      <td>Entire home/apt</td>\n",
       "    </tr>\n",
       "    <tr>\n",
       "      <th>43137</th>\n",
       "      <td>2.0</td>\n",
       "      <td>1.0</td>\n",
       "      <td>london</td>\n",
       "      <td>36192259.0</td>\n",
       "      <td>5.0</td>\n",
       "      <td>45.0</td>\n",
       "      <td>15.0</td>\n",
       "      <td>6906312</td>\n",
       "      <td>Private room</td>\n",
       "    </tr>\n",
       "  </tbody>\n",
       "</table>\n",
       "</div>"
      ],
      "text/plain": [
       "       accommodates  bedrooms    city     host_id  overall_satisfaction  \\\n",
       "43133           5.0       1.0  london    273864.0                   5.0   \n",
       "43134           3.0       0.0  london  24593225.0                   NaN   \n",
       "43135           NaN       3.0  london    857701.0                   5.0   \n",
       "43136           4.0       2.0  london   4926901.0                   4.5   \n",
       "43137           2.0       1.0  london  36192259.0                   5.0   \n",
       "\n",
       "       price  reviews   room_id        room_type  \n",
       "43133  107.0     16.0    350530  Entire home/apt  \n",
       "43134   46.0      0.0  10041582  Entire home/apt  \n",
       "43135  306.0      2.0     55574  Entire home/apt  \n",
       "43136  192.0      4.0   6936680  Entire home/apt  \n",
       "43137   45.0     15.0   6906312     Private room  "
      ]
     },
     "execution_count": 5,
     "metadata": {},
     "output_type": "execute_result"
    }
   ],
   "source": [
    "df5 = df5[(df5['city'] == 'new_york') | (df5['city'] == 'paris') | (df5['city'] == 'los_angeles') | (df5['city'] == 'london') |\n",
    "        (df5['city'] == 'rome') | (df5['city'] == 'new york') | (df5['city'] == 'seoul') | (df5['city'] == 'singapore')]\n",
    "df5.head()"
   ]
  },
  {
   "cell_type": "code",
   "execution_count": 6,
   "metadata": {},
   "outputs": [
    {
     "data": {
      "text/plain": [
       "new_york       159026\n",
       "paris          154218\n",
       "los_angeles    122111\n",
       "london          86538\n",
       "rome            61882\n",
       "new york        39745\n",
       "seoul           21588\n",
       "singapore        6753\n",
       "Name: city, dtype: int64"
      ]
     },
     "execution_count": 6,
     "metadata": {},
     "output_type": "execute_result"
    }
   ],
   "source": [
    "df5['city'].value_counts()"
   ]
  },
  {
   "cell_type": "code",
   "execution_count": 7,
   "metadata": {
    "collapsed": true
   },
   "outputs": [],
   "source": [
    "df5.to_csv(\"~/hosthome/1_data/all5_new.csv\")"
   ]
  },
  {
   "cell_type": "code",
   "execution_count": null,
   "metadata": {
    "collapsed": true
   },
   "outputs": [],
   "source": []
  }
 ],
 "metadata": {
  "kernelspec": {
   "display_name": "Python 2",
   "language": "python",
   "name": "python2"
  },
  "language_info": {
   "codemirror_mode": {
    "name": "ipython",
    "version": 2
   },
   "file_extension": ".py",
   "mimetype": "text/x-python",
   "name": "python",
   "nbconvert_exporter": "python",
   "pygments_lexer": "ipython2",
   "version": "2.7.13"
  }
 },
 "nbformat": 4,
 "nbformat_minor": 2
}
